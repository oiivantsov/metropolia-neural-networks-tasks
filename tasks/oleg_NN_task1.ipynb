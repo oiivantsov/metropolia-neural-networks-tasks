{
 "cells": [
  {
   "cell_type": "markdown",
   "id": "3418023c-a93d-4c0b-af29-cc3952170e60",
   "metadata": {},
   "source": [
    "## Import libraries"
   ]
  },
  {
   "cell_type": "code",
   "execution_count": 1,
   "id": "673d5780-6e2b-482f-b92e-0f58859f07de",
   "metadata": {},
   "outputs": [
    {
     "name": "stderr",
     "output_type": "stream",
     "text": [
      "2025-10-28 09:38:14.167173: I tensorflow/core/util/port.cc:153] oneDNN custom operations are on. You may see slightly different numerical results due to floating-point round-off errors from different computation orders. To turn them off, set the environment variable `TF_ENABLE_ONEDNN_OPTS=0`.\n",
      "2025-10-28 09:38:14.212205: I tensorflow/core/platform/cpu_feature_guard.cc:210] This TensorFlow binary is optimized to use available CPU instructions in performance-critical operations.\n",
      "To enable the following instructions: AVX2 AVX512F AVX512_VNNI AVX512_BF16 FMA, in other operations, rebuild TensorFlow with the appropriate compiler flags.\n",
      "2025-10-28 09:38:16.105435: I tensorflow/core/util/port.cc:153] oneDNN custom operations are on. You may see slightly different numerical results due to floating-point round-off errors from different computation orders. To turn them off, set the environment variable `TF_ENABLE_ONEDNN_OPTS=0`.\n"
     ]
    }
   ],
   "source": [
    "import numpy as np\n",
    "import pandas as pd\n",
    "from keras.models import Sequential\n",
    "from keras.layers import Dense\n",
    "from keras.utils import to_categorical\n",
    "from sklearn.preprocessing import LabelEncoder\n",
    "import matplotlib.pyplot as plt\n",
    "\n",
    "from keras.optimizers import Adam"
   ]
  },
  {
   "cell_type": "markdown",
   "id": "0dae3f38-ecbd-4fc2-acbd-9acd52c8e4a9",
   "metadata": {},
   "source": [
    "## Load the dataset"
   ]
  },
  {
   "cell_type": "code",
   "execution_count": 2,
   "id": "f3bc8b94-df79-41ff-953d-bdbabb1a0e2b",
   "metadata": {},
   "outputs": [
    {
     "data": {
      "text/html": [
       "<div>\n",
       "<style scoped>\n",
       "    .dataframe tbody tr th:only-of-type {\n",
       "        vertical-align: middle;\n",
       "    }\n",
       "\n",
       "    .dataframe tbody tr th {\n",
       "        vertical-align: top;\n",
       "    }\n",
       "\n",
       "    .dataframe thead th {\n",
       "        text-align: right;\n",
       "    }\n",
       "</style>\n",
       "<table border=\"1\" class=\"dataframe\">\n",
       "  <thead>\n",
       "    <tr style=\"text-align: right;\">\n",
       "      <th></th>\n",
       "      <th>sepal_length</th>\n",
       "      <th>sepal_width</th>\n",
       "      <th>petal_length</th>\n",
       "      <th>petal_width</th>\n",
       "      <th>species</th>\n",
       "    </tr>\n",
       "  </thead>\n",
       "  <tbody>\n",
       "    <tr>\n",
       "      <th>0</th>\n",
       "      <td>5.1</td>\n",
       "      <td>3.5</td>\n",
       "      <td>1.4</td>\n",
       "      <td>0.2</td>\n",
       "      <td>Iris-setosa</td>\n",
       "    </tr>\n",
       "    <tr>\n",
       "      <th>1</th>\n",
       "      <td>4.9</td>\n",
       "      <td>3.0</td>\n",
       "      <td>1.4</td>\n",
       "      <td>0.2</td>\n",
       "      <td>Iris-setosa</td>\n",
       "    </tr>\n",
       "    <tr>\n",
       "      <th>2</th>\n",
       "      <td>4.7</td>\n",
       "      <td>3.2</td>\n",
       "      <td>1.3</td>\n",
       "      <td>0.2</td>\n",
       "      <td>Iris-setosa</td>\n",
       "    </tr>\n",
       "    <tr>\n",
       "      <th>3</th>\n",
       "      <td>4.6</td>\n",
       "      <td>3.1</td>\n",
       "      <td>1.5</td>\n",
       "      <td>0.2</td>\n",
       "      <td>Iris-setosa</td>\n",
       "    </tr>\n",
       "    <tr>\n",
       "      <th>4</th>\n",
       "      <td>5.0</td>\n",
       "      <td>3.6</td>\n",
       "      <td>1.4</td>\n",
       "      <td>0.2</td>\n",
       "      <td>Iris-setosa</td>\n",
       "    </tr>\n",
       "  </tbody>\n",
       "</table>\n",
       "</div>"
      ],
      "text/plain": [
       "   sepal_length  sepal_width  petal_length  petal_width      species\n",
       "0           5.1          3.5           1.4          0.2  Iris-setosa\n",
       "1           4.9          3.0           1.4          0.2  Iris-setosa\n",
       "2           4.7          3.2           1.3          0.2  Iris-setosa\n",
       "3           4.6          3.1           1.5          0.2  Iris-setosa\n",
       "4           5.0          3.6           1.4          0.2  Iris-setosa"
      ]
     },
     "execution_count": 2,
     "metadata": {},
     "output_type": "execute_result"
    }
   ],
   "source": [
    "url = \"https://archive.ics.uci.edu/ml/machine-learning-databases/iris/iris.data\"\n",
    "\n",
    "columns = ['sepal_length', 'sepal_width', 'petal_length', 'petal_width', 'species']\n",
    "df = pd.read_csv(url, header=None, names=columns)\n",
    "df.head()"
   ]
  },
  {
   "cell_type": "markdown",
   "id": "e2b723f9-2eab-4d57-9f34-5e45068659b0",
   "metadata": {},
   "source": [
    "## Preprocess the data"
   ]
  },
  {
   "cell_type": "markdown",
   "id": "36149f1f-f4ef-40bc-b5e0-fd310d174962",
   "metadata": {},
   "source": [
    "### Split into features and labels"
   ]
  },
  {
   "cell_type": "code",
   "execution_count": 3,
   "id": "71ecdf21-cd09-4b7b-a336-4d7392c8763d",
   "metadata": {},
   "outputs": [],
   "source": [
    "X = df.iloc[:, 0:4].values # numerical features\n",
    "y = df.iloc[:, 4].values # class labels (species)"
   ]
  },
  {
   "cell_type": "markdown",
   "id": "fba197f5-5501-4598-ab58-2283fe9c220c",
   "metadata": {},
   "source": [
    "### Convert text labels to numeric form"
   ]
  },
  {
   "cell_type": "code",
   "execution_count": 4,
   "id": "ff84fb79-a4f7-431e-a337-2055f790d71d",
   "metadata": {},
   "outputs": [],
   "source": [
    "encoder = LabelEncoder()\n",
    "y_encoded = encoder.fit_transform(y)   # Setosa = 0, Versicolor = 1, Virginica = 2"
   ]
  },
  {
   "cell_type": "markdown",
   "id": "10bfa808-bda8-42ed-9536-2f3cb4dba75c",
   "metadata": {},
   "source": [
    "> docs: https://scikit-learn.org/stable/modules/generated/sklearn.preprocessing.LabelEncoder.html"
   ]
  },
  {
   "cell_type": "markdown",
   "id": "f94a424b-3411-4376-86f7-02ca2e5ffa3a",
   "metadata": {},
   "source": [
    "### One-hot encode labels"
   ]
  },
  {
   "cell_type": "markdown",
   "id": "939f48c2-7d80-47a5-98e7-d91411fc299d",
   "metadata": {},
   "source": [
    "We do this to convert the numeric class labels (0, 1, 2) into one-hot vectors like [1,0,0], [0,1,0], [0,0,1], because the neural network needs this format for multiclass classification with softmax."
   ]
  },
  {
   "cell_type": "code",
   "execution_count": 5,
   "id": "3bd594c9-9eee-472d-a6a0-2e12df65772b",
   "metadata": {},
   "outputs": [],
   "source": [
    "y_onehot = to_categorical(y_encoded)"
   ]
  },
  {
   "cell_type": "markdown",
   "id": "97ca7c9a-0656-44ff-be91-f74330ac6f73",
   "metadata": {},
   "source": [
    "## Shuffle the data"
   ]
  },
  {
   "cell_type": "markdown",
   "id": "e1be7cd0-39fc-4944-861a-7cec361b2990",
   "metadata": {},
   "source": [
    "If we don’t shuffle the data, the model might see many samples from the same class in sequence.\n",
    "Then it can learn patterns in the order instead of real features, causing worse accuracy and slower or unstable learning."
   ]
  },
  {
   "cell_type": "code",
   "execution_count": 6,
   "id": "60857472-ca8e-40f9-b389-a0c77c4bf9d9",
   "metadata": {},
   "outputs": [],
   "source": [
    "indices = np.arange(X.shape[0])\n",
    "np.random.shuffle(indices)\n",
    "X = X[indices]\n",
    "y_onehot = y_onehot[indices]"
   ]
  },
  {
   "cell_type": "markdown",
   "id": "97c99cbd-c25f-4715-b9f3-8039350b0f18",
   "metadata": {},
   "source": [
    "## Build the neural network"
   ]
  },
  {
   "cell_type": "markdown",
   "id": "845d1ebe-7a25-4f4d-a562-9b3c2a9c4aa1",
   "metadata": {},
   "source": [
    "- One hidden layer (example: 8 neurons, ReLU activation),\n",
    "- Output layer: 3 neurons, softmax activation."
   ]
  },
  {
   "cell_type": "code",
   "execution_count": 7,
   "id": "fde15a6d-5828-4f6f-b0ab-77b58e7cb212",
   "metadata": {},
   "outputs": [
    {
     "name": "stderr",
     "output_type": "stream",
     "text": [
      "/opt/conda/lib/python3.11/site-packages/keras/src/layers/core/dense.py:95: UserWarning: Do not pass an `input_shape`/`input_dim` argument to a layer. When using Sequential models, prefer using an `Input(shape)` object as the first layer in the model instead.\n",
      "  super().__init__(activity_regularizer=activity_regularizer, **kwargs)\n",
      "2025-10-28 09:38:18.146690: E external/local_xla/xla/stream_executor/cuda/cuda_platform.cc:51] failed call to cuInit: INTERNAL: CUDA error: Failed call to cuInit: UNKNOWN ERROR (303)\n"
     ]
    }
   ],
   "source": [
    "model = Sequential([\n",
    "    Dense(8, input_shape=(4,), activation='relu'),\n",
    "    Dense(3, activation='softmax')\n",
    "])"
   ]
  },
  {
   "cell_type": "markdown",
   "id": "d28ed832-142b-49fa-af3b-1824955976c8",
   "metadata": {},
   "source": [
    "* 8 = the number of neurons in the hidden layer. It’s a small number that gives the model enough power to learn patterns without overfitting.\r\n",
    "* ReLU = the activation function for the hidden layer. It keeps positive values and sets negative ones to 0.\r\n",
    "* 3 = the number of output neurons, because there are 3 iris species to predict (Setosa, Versicolor, Virginica).\r\n",
    "* Softmax = makes the 3 outputs become probabilities that sum to 1, one value for each clas.\r\n"
   ]
  },
  {
   "cell_type": "markdown",
   "id": "ef94d071-5d22-437c-87c4-0ed1a35755ff",
   "metadata": {},
   "source": [
    "## Compile the model"
   ]
  },
  {
   "cell_type": "markdown",
   "id": "b4c21b40-674b-45fc-a779-3f073de98a2a",
   "metadata": {},
   "source": [
    "We use Adam because it is a smart optimizer that helps the model learn faster and more smoothly. It combines two ideas: momentum (it keeps moving in a good direction) and adaptive learning rate (it changes the step size automatically)."
   ]
  },
  {
   "cell_type": "markdown",
   "id": "7b939d1f-d454-4168-ac5f-843fb2a29de8",
   "metadata": {},
   "source": [
    "> https://www.reddit.com/r/reinforcementlearning/comments/ei9p3y/using_rmsprop_over_adam/"
   ]
  },
  {
   "cell_type": "code",
   "execution_count": 8,
   "id": "c5051c70-5a22-468a-9066-2cfc6eb4f007",
   "metadata": {},
   "outputs": [],
   "source": [
    "# model.compile(\n",
    "#     optimizer='adam',\n",
    "#     loss='categorical_crossentropy',\n",
    "#     metrics=['accuracy']\n",
    "# )\n",
    "\n",
    "\n",
    "opt = Adam(learning_rate=0.01)\n",
    "model.compile(optimizer=opt, loss='categorical_crossentropy', metrics=['accuracy'])"
   ]
  },
  {
   "cell_type": "markdown",
   "id": "43f0d1d9-1549-47d5-a89a-1181c8e7a190",
   "metadata": {},
   "source": [
    "This code shows that when we use the default optimizer, the accuracy is around 0.9.\n",
    "So we create a new optimizer with a higher learning rate (0.01) using Adam."
   ]
  },
  {
   "cell_type": "markdown",
   "id": "805bc907-6202-48b0-aac8-cf5c1ecc84d1",
   "metadata": {},
   "source": [
    "This helps the model learn faster and reach higher accuracy, because it updates the weights with slightly bigger steps during training."
   ]
  },
  {
   "cell_type": "markdown",
   "id": "0658b883-95e1-43a8-8773-373990b5d3ca",
   "metadata": {},
   "source": [
    "## Train the model"
   ]
  },
  {
   "cell_type": "markdown",
   "id": "34502344-2bc1-49d4-8eb3-62d51c411913",
   "metadata": {},
   "source": [
    "* epochs = 30: the model sees the whole dataset 30 times. That’s usually enough for it to learn without overfitting.\r\n",
    "* batch_size = 16: the Iris dataset has only 150 samples, so a batch size of 16 or 32 is a good balance, the model sees enough data to learn patterns but not too much to lose training speed. I also tried a batch size of 8, but the results jumped a lot between runs.\r\n",
    "* validation_split = 0.2: 20% of the data is kept for validation (to check how well the model works on unseen data).\r\n",
    "* verbose = 1: means \"show training progress.\" It prints the loss and accuracy for each epoch in the output.\r\n"
   ]
  },
  {
   "cell_type": "code",
   "execution_count": 9,
   "id": "e33b5816-465c-4203-9ef7-98a2be824efe",
   "metadata": {},
   "outputs": [
    {
     "name": "stdout",
     "output_type": "stream",
     "text": [
      "Epoch 1/30\n",
      "\u001b[1m8/8\u001b[0m \u001b[32m━━━━━━━━━━━━━━━━━━━━\u001b[0m\u001b[37m\u001b[0m \u001b[1m1s\u001b[0m 21ms/step - accuracy: 0.3250 - loss: 1.7866 - val_accuracy: 0.3667 - val_loss: 1.1910\n",
      "Epoch 2/30\n",
      "\u001b[1m8/8\u001b[0m \u001b[32m━━━━━━━━━━━━━━━━━━━━\u001b[0m\u001b[37m\u001b[0m \u001b[1m0s\u001b[0m 8ms/step - accuracy: 0.4917 - loss: 1.0833 - val_accuracy: 0.4333 - val_loss: 0.9311\n",
      "Epoch 3/30\n",
      "\u001b[1m8/8\u001b[0m \u001b[32m━━━━━━━━━━━━━━━━━━━━\u001b[0m\u001b[37m\u001b[0m \u001b[1m0s\u001b[0m 8ms/step - accuracy: 0.6500 - loss: 0.8330 - val_accuracy: 0.6333 - val_loss: 0.8274\n",
      "Epoch 4/30\n",
      "\u001b[1m8/8\u001b[0m \u001b[32m━━━━━━━━━━━━━━━━━━━━\u001b[0m\u001b[37m\u001b[0m \u001b[1m0s\u001b[0m 8ms/step - accuracy: 0.6750 - loss: 0.7376 - val_accuracy: 0.6333 - val_loss: 0.7402\n",
      "Epoch 5/30\n",
      "\u001b[1m8/8\u001b[0m \u001b[32m━━━━━━━━━━━━━━━━━━━━\u001b[0m\u001b[37m\u001b[0m \u001b[1m0s\u001b[0m 8ms/step - accuracy: 0.6750 - loss: 0.6377 - val_accuracy: 0.6333 - val_loss: 0.6453\n",
      "Epoch 6/30\n",
      "\u001b[1m8/8\u001b[0m \u001b[32m━━━━━━━━━━━━━━━━━━━━\u001b[0m\u001b[37m\u001b[0m \u001b[1m0s\u001b[0m 8ms/step - accuracy: 0.6917 - loss: 0.5519 - val_accuracy: 0.6667 - val_loss: 0.5625\n",
      "Epoch 7/30\n",
      "\u001b[1m8/8\u001b[0m \u001b[32m━━━━━━━━━━━━━━━━━━━━\u001b[0m\u001b[37m\u001b[0m \u001b[1m0s\u001b[0m 8ms/step - accuracy: 0.8083 - loss: 0.4890 - val_accuracy: 0.8667 - val_loss: 0.5034\n",
      "Epoch 8/30\n",
      "\u001b[1m8/8\u001b[0m \u001b[32m━━━━━━━━━━━━━━━━━━━━\u001b[0m\u001b[37m\u001b[0m \u001b[1m0s\u001b[0m 8ms/step - accuracy: 0.8250 - loss: 0.4472 - val_accuracy: 0.8667 - val_loss: 0.4646\n",
      "Epoch 9/30\n",
      "\u001b[1m8/8\u001b[0m \u001b[32m━━━━━━━━━━━━━━━━━━━━\u001b[0m\u001b[37m\u001b[0m \u001b[1m0s\u001b[0m 8ms/step - accuracy: 0.8833 - loss: 0.4106 - val_accuracy: 0.9667 - val_loss: 0.4308\n",
      "Epoch 10/30\n",
      "\u001b[1m8/8\u001b[0m \u001b[32m━━━━━━━━━━━━━━━━━━━━\u001b[0m\u001b[37m\u001b[0m \u001b[1m0s\u001b[0m 8ms/step - accuracy: 0.9667 - loss: 0.3862 - val_accuracy: 0.9667 - val_loss: 0.3985\n",
      "Epoch 11/30\n",
      "\u001b[1m8/8\u001b[0m \u001b[32m━━━━━━━━━━━━━━━━━━━━\u001b[0m\u001b[37m\u001b[0m \u001b[1m0s\u001b[0m 9ms/step - accuracy: 0.9583 - loss: 0.3555 - val_accuracy: 0.9667 - val_loss: 0.3715\n",
      "Epoch 12/30\n",
      "\u001b[1m8/8\u001b[0m \u001b[32m━━━━━━━━━━━━━━━━━━━━\u001b[0m\u001b[37m\u001b[0m \u001b[1m0s\u001b[0m 8ms/step - accuracy: 0.9583 - loss: 0.3323 - val_accuracy: 0.9667 - val_loss: 0.3448\n",
      "Epoch 13/30\n",
      "\u001b[1m8/8\u001b[0m \u001b[32m━━━━━━━━━━━━━━━━━━━━\u001b[0m\u001b[37m\u001b[0m \u001b[1m0s\u001b[0m 8ms/step - accuracy: 0.9750 - loss: 0.3213 - val_accuracy: 0.9667 - val_loss: 0.3191\n",
      "Epoch 14/30\n",
      "\u001b[1m8/8\u001b[0m \u001b[32m━━━━━━━━━━━━━━━━━━━━\u001b[0m\u001b[37m\u001b[0m \u001b[1m0s\u001b[0m 8ms/step - accuracy: 0.9583 - loss: 0.2952 - val_accuracy: 0.9667 - val_loss: 0.2966\n",
      "Epoch 15/30\n",
      "\u001b[1m8/8\u001b[0m \u001b[32m━━━━━━━━━━━━━━━━━━━━\u001b[0m\u001b[37m\u001b[0m \u001b[1m0s\u001b[0m 8ms/step - accuracy: 0.9750 - loss: 0.2709 - val_accuracy: 1.0000 - val_loss: 0.2833\n",
      "Epoch 16/30\n",
      "\u001b[1m8/8\u001b[0m \u001b[32m━━━━━━━━━━━━━━━━━━━━\u001b[0m\u001b[37m\u001b[0m \u001b[1m0s\u001b[0m 7ms/step - accuracy: 0.9750 - loss: 0.2549 - val_accuracy: 0.9667 - val_loss: 0.2577\n",
      "Epoch 17/30\n",
      "\u001b[1m8/8\u001b[0m \u001b[32m━━━━━━━━━━━━━━━━━━━━\u001b[0m\u001b[37m\u001b[0m \u001b[1m0s\u001b[0m 8ms/step - accuracy: 0.9667 - loss: 0.2432 - val_accuracy: 1.0000 - val_loss: 0.2425\n",
      "Epoch 18/30\n",
      "\u001b[1m8/8\u001b[0m \u001b[32m━━━━━━━━━━━━━━━━━━━━\u001b[0m\u001b[37m\u001b[0m \u001b[1m0s\u001b[0m 7ms/step - accuracy: 0.9667 - loss: 0.2277 - val_accuracy: 1.0000 - val_loss: 0.2257\n",
      "Epoch 19/30\n",
      "\u001b[1m8/8\u001b[0m \u001b[32m━━━━━━━━━━━━━━━━━━━━\u001b[0m\u001b[37m\u001b[0m \u001b[1m0s\u001b[0m 8ms/step - accuracy: 0.9667 - loss: 0.2242 - val_accuracy: 1.0000 - val_loss: 0.2105\n",
      "Epoch 20/30\n",
      "\u001b[1m8/8\u001b[0m \u001b[32m━━━━━━━━━━━━━━━━━━━━\u001b[0m\u001b[37m\u001b[0m \u001b[1m0s\u001b[0m 9ms/step - accuracy: 0.9500 - loss: 0.2058 - val_accuracy: 1.0000 - val_loss: 0.2015\n",
      "Epoch 21/30\n",
      "\u001b[1m8/8\u001b[0m \u001b[32m━━━━━━━━━━━━━━━━━━━━\u001b[0m\u001b[37m\u001b[0m \u001b[1m0s\u001b[0m 7ms/step - accuracy: 0.9667 - loss: 0.1921 - val_accuracy: 1.0000 - val_loss: 0.1859\n",
      "Epoch 22/30\n",
      "\u001b[1m8/8\u001b[0m \u001b[32m━━━━━━━━━━━━━━━━━━━━\u001b[0m\u001b[37m\u001b[0m \u001b[1m0s\u001b[0m 7ms/step - accuracy: 0.9750 - loss: 0.1828 - val_accuracy: 1.0000 - val_loss: 0.1805\n",
      "Epoch 23/30\n",
      "\u001b[1m8/8\u001b[0m \u001b[32m━━━━━━━━━━━━━━━━━━━━\u001b[0m\u001b[37m\u001b[0m \u001b[1m0s\u001b[0m 7ms/step - accuracy: 0.9667 - loss: 0.1754 - val_accuracy: 1.0000 - val_loss: 0.1688\n",
      "Epoch 24/30\n",
      "\u001b[1m8/8\u001b[0m \u001b[32m━━━━━━━━━━━━━━━━━━━━\u001b[0m\u001b[37m\u001b[0m \u001b[1m0s\u001b[0m 8ms/step - accuracy: 0.9833 - loss: 0.1672 - val_accuracy: 1.0000 - val_loss: 0.1577\n",
      "Epoch 25/30\n",
      "\u001b[1m8/8\u001b[0m \u001b[32m━━━━━━━━━━━━━━━━━━━━\u001b[0m\u001b[37m\u001b[0m \u001b[1m0s\u001b[0m 8ms/step - accuracy: 0.9667 - loss: 0.1614 - val_accuracy: 1.0000 - val_loss: 0.1487\n",
      "Epoch 26/30\n",
      "\u001b[1m8/8\u001b[0m \u001b[32m━━━━━━━━━━━━━━━━━━━━\u001b[0m\u001b[37m\u001b[0m \u001b[1m0s\u001b[0m 7ms/step - accuracy: 0.9750 - loss: 0.1539 - val_accuracy: 1.0000 - val_loss: 0.1413\n",
      "Epoch 27/30\n",
      "\u001b[1m8/8\u001b[0m \u001b[32m━━━━━━━━━━━━━━━━━━━━\u001b[0m\u001b[37m\u001b[0m \u001b[1m0s\u001b[0m 8ms/step - accuracy: 0.9750 - loss: 0.1470 - val_accuracy: 1.0000 - val_loss: 0.1412\n",
      "Epoch 28/30\n",
      "\u001b[1m8/8\u001b[0m \u001b[32m━━━━━━━━━━━━━━━━━━━━\u001b[0m\u001b[37m\u001b[0m \u001b[1m0s\u001b[0m 7ms/step - accuracy: 0.9833 - loss: 0.1410 - val_accuracy: 1.0000 - val_loss: 0.1293\n",
      "Epoch 29/30\n",
      "\u001b[1m8/8\u001b[0m \u001b[32m━━━━━━━━━━━━━━━━━━━━\u001b[0m\u001b[37m\u001b[0m \u001b[1m0s\u001b[0m 8ms/step - accuracy: 0.9583 - loss: 0.1386 - val_accuracy: 1.0000 - val_loss: 0.1251\n",
      "Epoch 30/30\n",
      "\u001b[1m8/8\u001b[0m \u001b[32m━━━━━━━━━━━━━━━━━━━━\u001b[0m\u001b[37m\u001b[0m \u001b[1m0s\u001b[0m 8ms/step - accuracy: 0.9667 - loss: 0.1336 - val_accuracy: 1.0000 - val_loss: 0.1281\n"
     ]
    }
   ],
   "source": [
    "history = model.fit(\n",
    "    X, y_onehot,\n",
    "    epochs=30,\n",
    "    batch_size=16,\n",
    "    validation_split=0.2,\n",
    "    verbose=1\n",
    ")"
   ]
  },
  {
   "cell_type": "markdown",
   "id": "d7078b5d-2794-42a0-8afe-b17e91046b7d",
   "metadata": {},
   "source": [
    "## Visualize the training progress"
   ]
  },
  {
   "cell_type": "code",
   "execution_count": 10,
   "id": "a77868f6-c272-4805-bdb7-892278531fd6",
   "metadata": {},
   "outputs": [
    {
     "data": {
      "image/png": "[encoded data removed]",
      "text/plain": [
       "<Figure size 640x480 with 1 Axes>"
      ]
     },
     "metadata": {},
     "output_type": "display_data"
    }
   ],
   "source": [
    "plt.plot(history.history['accuracy'], label='Training Accuracy')\n",
    "plt.plot(history.history['val_accuracy'], label='Validation Accuracy')\n",
    "\n",
    "plt.axhline(y=0.95, color='red', linestyle='--', label='Target = 0.95')\n",
    "\n",
    "plt.xlabel('Epoch')\n",
    "plt.ylabel('Accuracy')\n",
    "plt.legend()\n",
    "plt.show()\n"
   ]
  }
 ],
 "metadata": {
  "kernelspec": {
   "display_name": "Python 3 (ipykernel)",
   "language": "python",
   "name": "python3"
  },
  "language_info": {
   "codemirror_mode": {
    "name": "ipython",
    "version": 3
   },
   "file_extension": ".py",
   "mimetype": "text/x-python",
   "name": "python",
   "nbconvert_exporter": "python",
   "pygments_lexer": "ipython3",
   "version": "3.11.6"
  }
 },
 "nbformat": 4,
 "nbformat_minor": 5
}
